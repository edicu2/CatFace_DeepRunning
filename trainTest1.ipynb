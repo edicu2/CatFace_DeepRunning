{
 "cells": [
  {
   "cell_type": "code",
   "execution_count": 22,
   "metadata": {},
   "outputs": [
    {
     "name": "stdout",
     "output_type": "stream",
     "text": [
      "ok\n"
     ]
    }
   ],
   "source": [
    "import keras, datetime\n",
    "from keras.layers import Input, Dense\n",
    "from keras.models import Model\n",
    "from keras.callbacks import TensorBoard, ModelCheckpoint, ReduceLROnPlateau\n",
    "from keras.applications import mobilenet_v2\n",
    "import numpy as np\n",
    "\n",
    "# import import_ipynb\n",
    "# import preprocess.ipynb\n",
    "\n",
    "img_size = 224\n",
    "\n",
    "# bound box 모델과 landmark 모델의 결과물이 다르므로  2가지 \n",
    "# mode = bound box 모델링이기 때문에 bbs\n",
    "mode = 'bbs' # [bbs, lmks]\n",
    "if mode is 'bbs':\n",
    "  output_size = 4\n",
    "elif mode is 'lmks':\n",
    "  output_size = 18\n",
    "\n",
    "# 00 ~ 05까지 학습\n",
    "# 06 모델링이 잘 되었는지 테스트\n",
    "start_time = datetime.datetime.now().strftime('%Y_%m_%d_%H_%M_%S')\n",
    "data_00 = np.load('dataset/CAT_00.npy', allow_pickle = True)\n",
    "data_01 = np.load('dataset/CAT_01.npy', allow_pickle = True)\n",
    "data_02 = np.load('dataset/CAT_02.npy', allow_pickle = True)\n",
    "data_03 = np.load('dataset/CAT_03.npy', allow_pickle = True)\n",
    "data_04 = np.load('dataset/CAT_04.npy', allow_pickle = True)\n",
    "data_05 = np.load('dataset/CAT_05.npy', allow_pickle = True)\n",
    "data_06 = np.load('dataset/CAT_06.npy', allow_pickle = True)\n",
    "\n",
    "# x_train Data img의 색상값이 들어있다. \n",
    "# numpy concatenate로 array 연결 axis=0 으로 배열 열이 추가되는 형식  \n",
    "# y_train Data는 왼쪽 상단과 오른쪽 하단의 바운드 박스 좌표 값이 validation값으로 들어간다.\n",
    "x_train = np.concatenate((data_00.item().get('imgs'), data_01.item().get('imgs'), data_02.item().get('imgs'), data_03.item().get('imgs'), data_04.item().get('imgs'), data_05.item().get('imgs')), axis=0)\n",
    "y_train = np.concatenate((data_00.item().get(mode), data_01.item().get(mode), data_02.item().get(mode), data_03.item().get(mode), data_04.item().get(mode), data_05.item().get(mode)), axis=0)\n",
    "\n",
    "x_test = np.array(data_06.item().get('imgs'))\n",
    "y_test = np.array(data_06.item().get(mode))\n",
    "\n",
    "# 값을 0 ~ 1 사이의 실수로 변환\n",
    "x_train = x_train.astype('float32') / 255.\n",
    "x_test = x_test.astype('float32') / 255.\n",
    "\n",
    "\n",
    "# x_train2 = np.reshape(x_train, (-1, img_size, img_size, 3))\n",
    "# x_test2 = np.reshape(x_test, (-1, img_size, img_size, 3))\n",
    "\n",
    "# if (x_train==x_train2).all() :\n",
    "#   print(\"ok\")\n",
    "# else:\n",
    "#   print(\"no\")"
   ]
  },
  {
   "cell_type": "code",
   "execution_count": null,
   "metadata": {},
   "outputs": [],
   "source": []
  }
 ],
 "metadata": {
  "kernelspec": {
   "display_name": "Python 3",
   "language": "python",
   "name": "python3"
  },
  "language_info": {
   "codemirror_mode": {
    "name": "ipython",
    "version": 3
   },
   "file_extension": ".py",
   "mimetype": "text/x-python",
   "name": "python",
   "nbconvert_exporter": "python",
   "pygments_lexer": "ipython3",
   "version": "3.7.4"
  }
 },
 "nbformat": 4,
 "nbformat_minor": 2
}
