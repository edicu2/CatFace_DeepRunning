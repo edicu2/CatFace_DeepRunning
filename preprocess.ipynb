{
 "cells": [
  {
   "cell_type": "code",
   "execution_count": 18,
   "metadata": {},
   "outputs": [
    {
     "name": "stdout",
     "output_type": "stream",
     "text": [
      "['.DS_Store', 'CAT_00', 'CAT_01', 'CAT_02', 'CAT_03', 'CAT_04', 'CAT_05', 'CAT_06']\n",
      "CAT_00\n"
     ]
    },
    {
     "name": "stderr",
     "output_type": "stream",
     "text": [
      "/Library/Frameworks/Python.framework/Versions/3.7/lib/python3.7/site-packages/ipykernel_launcher.py:27: FutureWarning: Method .as_matrix will be removed in a future version. Use .values instead.\n"
     ]
    },
    {
     "name": "stdout",
     "output_type": "stream",
     "text": [
      "CAT_01\n",
      "CAT_02\n",
      "CAT_03\n",
      "CAT_04\n",
      "CAT_05\n",
      "CAT_06\n"
     ]
    }
   ],
   "source": [
    "import random\n",
    "import dlib, cv2, os\n",
    "import pandas as pd\n",
    "import numpy as np\n",
    "\n",
    "img_size = 224  \n",
    "dir_list= sorted(os.listdir(\"cat-dataset/\"))\n",
    "\n",
    "for d in dir_list:\n",
    "    #if는 숨겨진 .DS_Store파일 건너뛰기\n",
    "    if d.startswith('.'):\n",
    "        continue\n",
    "    # dataset (dic안에 array)\n",
    "    dataset = {\n",
    "      'imgs': [], # img\n",
    "      'lmks': [], # landmarks \n",
    "      'bbs': []   # bound boxs\n",
    "    }\n",
    "    base_path = 'cat-dataset/%s' % d\n",
    "    file_list = sorted(os.listdir(base_path))\n",
    "    random.shuffle(file_list)\n",
    "    for f in file_list:\n",
    "      if '.cat' not in f:\n",
    "        continue\n",
    "      # read landmarks\n",
    "      pd_frame = pd.read_csv(os.path.join(base_path, f), sep=' ', header=None)\n",
    "      # 좌표 csv파일의 첫번째는 필요없는 부분으로 두번째부터 마지막까지 추출[1:-1] 그리고 reshape(-1,2) 2차원 배열 형태로 변환\n",
    "      landmarks = (pd_frame.as_matrix()[0][1:-1]).reshape((-1, 2))\n",
    "\n",
    "      # load image\n",
    "      # ex) 0001004.jpg.cat 파일의 뒷부분 .cat을 잘라낸다.\n",
    "      img_filename = os.path.splitext(f)[0]\n",
    "      # 이미지 불러오기\n",
    "      img = cv2.imread(os.path.join(base_path, img_filename))\n",
    "      # resize image and relocate landmarks\n",
    "      img, ratio, top, left = resize_img(img)\n",
    "      landmarks = ((landmarks * ratio) + np.array([left, top])).astype(np.int)\n",
    "      bb = np.array([np.min(landmarks, axis=0), np.max(landmarks, axis=0)])\n",
    "      dataset['imgs'].append(img)\n",
    "      dataset['lmks'].append(landmarks.flatten())\n",
    "      dataset['bbs'].append(bb.flatten())\n",
    "\n",
    "    np.save('dataset/%s.npy' % d, np.array(dataset))\n",
    "    \n",
    "\n",
    "def resize_img(im):\n",
    "  old_size = im.shape[:2] # old_size is in (height, width) format\n",
    "  ratio = float(img_size) / max(old_size)\n",
    "  new_size = tuple([int(x*ratio) for x in old_size])\n",
    "  # new_size should be in (width, height) format\n",
    "  # resize부분은 반대로 집어넣어야 한다.( Width, Height )\n",
    "  im = cv2.resize(im, (new_size[1], new_size[0]))\n",
    "  # 검정색으로 채울 길이 확인 및 채우기 \n",
    "  delta_w = img_size - new_size[1]\n",
    "  delta_h = img_size - new_size[0]\n",
    "  top, bottom = delta_h // 2, delta_h - (delta_h // 2)\n",
    "  left, right = delta_w // 2, delta_w - (delta_w // 2)\n",
    "  new_im = cv2.copyMakeBorder(im, top, bottom, left, right, cv2.BORDER_CONSTANT,\n",
    "      value=[0, 0, 0])\n",
    "  return new_im, ratio, top, left\n"
   ]
  },
  {
   "cell_type": "code",
   "execution_count": null,
   "metadata": {},
   "outputs": [],
   "source": []
  }
 ],
 "metadata": {
  "kernelspec": {
   "display_name": "Python 3",
   "language": "python",
   "name": "python3"
  },
  "language_info": {
   "codemirror_mode": {
    "name": "ipython",
    "version": 3
   },
   "file_extension": ".py",
   "mimetype": "text/x-python",
   "name": "python",
   "nbconvert_exporter": "python",
   "pygments_lexer": "ipython3",
   "version": "3.7.4"
  }
 },
 "nbformat": 4,
 "nbformat_minor": 2
}
