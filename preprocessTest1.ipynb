{
 "cells": [
  {
   "cell_type": "code",
   "execution_count": 27,
   "metadata": {},
   "outputs": [
    {
     "name": "stdout",
     "output_type": "stream",
     "text": [
      "(168, 224)\n",
      "56\n",
      "28 28\n"
     ]
    }
   ],
   "source": [
    "import random\n",
    "import dlib, cv2, os\n",
    "import pandas as pd\n",
    "import numpy as np\n",
    "\n",
    "# 정사각형 모양의 이미지로 변환하는 함수 \n",
    "def resize_img(im):\n",
    "  old_size = im.shape[:2] # old_size is in (height, width) format\n",
    "  ratio = float(img_size) / max(old_size)\n",
    "  \n",
    "  # 긴쪽의 길이를 224로 바꾸어 Tupple에 넣는다.\n",
    "  # cast int는 내림처리\n",
    "  new_size = tuple([int(x*ratio) for x in old_size])  \n",
    "  \n",
    "  # new_size should be in (width, height) format\n",
    "  # resize함수에  height와 width가 반대로 들어가야한다. \n",
    "  im = cv2.resize(im, (new_size[1], new_size[0]))\n",
    "  print(im.shape[:2])\n",
    "\n",
    "  # resize되어 랜드마크 수정을 위한 좌표 수정과 \n",
    "  # 정사각형으로 만들고 난 후 이미지 이외의 부분은 검정색으로 채우기\n",
    "  delta_w = img_size - new_size[1]\n",
    "  delta_h = img_size - new_size[0]\n",
    "  top, bottom = delta_h // 2, delta_h - (delta_h // 2)\n",
    "  left, right = delta_w // 2, delta_w - (delta_w // 2)\n",
    "  new_im = cv2.copyMakeBorder(im, top, bottom, left, right, cv2.BORDER_CONSTANT,\n",
    "      value=[0, 0, 0])\n",
    "  return new_im, ratio, top, left\n",
    "\n",
    "\n",
    "img_size = 224  \n",
    "img = cv2.imread('cat-dataset/CAT_00/00000001_005.jpg')\n",
    " # resize image and relocate landmarks\n",
    "img, ratio, top, left = resize_img(img)\n",
    "\n",
    "\n",
    "\n"
   ]
  },
  {
   "cell_type": "code",
   "execution_count": null,
   "metadata": {},
   "outputs": [],
   "source": []
  }
 ],
 "metadata": {
  "kernelspec": {
   "display_name": "Python 3",
   "language": "python",
   "name": "python3"
  },
  "language_info": {
   "codemirror_mode": {
    "name": "ipython",
    "version": 3
   },
   "file_extension": ".py",
   "mimetype": "text/x-python",
   "name": "python",
   "nbconvert_exporter": "python",
   "pygments_lexer": "ipython3",
   "version": "3.7.4"
  }
 },
 "nbformat": 4,
 "nbformat_minor": 2
}
