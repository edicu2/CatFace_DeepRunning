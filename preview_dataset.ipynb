{
 "cells": [
  {
   "cell_type": "code",
   "execution_count": null,
   "metadata": {},
   "outputs": [
    {
     "name": "stderr",
     "output_type": "stream",
     "text": [
      "/Library/Frameworks/Python.framework/Versions/3.7/lib/python3.7/site-packages/ipykernel_launcher.py:19: FutureWarning: Method .as_matrix will be removed in a future version. Use .values instead.\n"
     ]
    }
   ],
   "source": [
    "import random\n",
    "import dlib, cv2, os \n",
    "import pandas as pd\n",
    "import numpy as np\n",
    "\n",
    "# file_list 랜드마크와 이미지 파일 리스트\n",
    "dirname =  'CAT_00'\n",
    "base_path = 'cat-dataset/%s' % dirname\n",
    "file_list = sorted(os.listdir(base_path))\n",
    "\n",
    "for f in file_list:\n",
    "    # for안의 if로 .cat이 안붙어 있는 경우 다음으로 넘긴다.\n",
    "    if '.cat' not in f:\n",
    "        continue\n",
    "    \n",
    "    # read landmarks \n",
    "    # randmarks에 .cat 파일의 데이터의 Array를 변경\n",
    "    pd_frame = pd.read_csv(os.path.join(base_path,f), sep=' ', header=None)\n",
    "    # 좌표 첫번째부분은 필요없는 부분으로 2번째부터 마지막까지 [1:-1] 추출 \n",
    "    landmarks = pd_frame.as_matrix()[0][1:-1].reshape((-1,2)).astype(np.int)\n",
    "    \n",
    "    # load image\n",
    "    # 이미지를 불러온다.\n",
    "    img_filename = os.path.splitext(f)[0]\n",
    "    img = cv2.imread(os.path.join(base_path, img_filename))\n",
    "    \n",
    "    # visualize\n",
    "    # landmarks를 찍은 이미지를 보여준다. \n",
    "    for l in landmarks:\n",
    "        cv2.circle(img, center=tuple(l), radius=1, color=(0, 0, 255), thickness=2)\n",
    "    # keyboard q == quit \n",
    "    # 키보드 키를 누르게 되면 다음 이미지로 q를 누르면 종료 \n",
    "    cv2.imshow('img', img)\n",
    "    if cv2.waitKey(0) == ord('q'):\n",
    "        break"
   ]
  },
  {
   "cell_type": "code",
   "execution_count": null,
   "metadata": {},
   "outputs": [],
   "source": []
  },
  {
   "cell_type": "code",
   "execution_count": null,
   "metadata": {},
   "outputs": [],
   "source": []
  }
 ],
 "metadata": {
  "kernelspec": {
   "display_name": "Python 3",
   "language": "python",
   "name": "python3"
  },
  "language_info": {
   "codemirror_mode": {
    "name": "ipython",
    "version": 3
   },
   "file_extension": ".py",
   "mimetype": "text/x-python",
   "name": "python",
   "nbconvert_exporter": "python",
   "pygments_lexer": "ipython3",
   "version": "3.7.4"
  }
 },
 "nbformat": 4,
 "nbformat_minor": 2
}
