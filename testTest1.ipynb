{
 "cells": [
  {
   "cell_type": "code",
   "execution_count": 17,
   "metadata": {},
   "outputs": [
    {
     "name": "stdout",
     "output_type": "stream",
     "text": [
      "0\n",
      "23\n",
      "24\n",
      "0\n"
     ]
    }
   ],
   "source": [
    "import keras, sys, cv2, os\n",
    "from keras.models import Model, load_model\n",
    "import numpy as np\n",
    "import pandas as pd\n",
    "from math import atan2, degrees\n",
    "\n",
    "img_size = 224\n",
    "base_path = 'samples'\n",
    "file_list = sorted(os.listdir(base_path))\n",
    "\n",
    "\n",
    "def resize_img(im):\n",
    "  old_size = im.shape[:2] # old_size is in (height, width) format\n",
    "  ratio = float(img_size) / max(old_size)\n",
    "  new_size = tuple([int(x*ratio) for x in old_size])\n",
    "  # new_size should be in (width, height) format\n",
    "  im = cv2.resize(im, (new_size[1], new_size[0]))\n",
    "  delta_w = img_size - new_size[1]\n",
    "  delta_h = img_size - new_size[0]\n",
    "  top, bottom = delta_h // 2, delta_h - (delta_h // 2)\n",
    "  left, right = delta_w // 2, delta_w - (delta_w // 2)\n",
    "  new_im = cv2.copyMakeBorder(im, top, bottom, left, right, cv2.BORDER_CONSTANT,\n",
    "      value=[0, 0, 0])\n",
    "  return new_im, ratio, top, left, right, bottom\n",
    "\n",
    "\n",
    "# testing\n",
    "img = cv2.imread(os.path.join(base_path,'000.jpg'))\n",
    "ori_img = img.copy()\n",
    "result_img = img.copy()\n",
    "\n",
    "# predict bounding box\n",
    "img, ratio, top, left, right, bottom = resize_img(img)\n",
    "print(left)\n",
    "print(top)\n",
    "print(bottom)\n",
    "print(right)\n",
    "inputs = (img.astype('float32') / 255).reshape((1, img_size, img_size, 3))\n",
    "  #pred_bb = bbs_model.predict(inputs)[0].reshape((-1, 2))\n",
    "\n",
    "  # compute bounding box of original image\n",
    "  #ori_bb = ((pred_bb - np.array([left, top])) / ratio).astype(np.int)"
   ]
  },
  {
   "cell_type": "code",
   "execution_count": null,
   "metadata": {},
   "outputs": [],
   "source": []
  }
 ],
 "metadata": {
  "kernelspec": {
   "display_name": "Python 3",
   "language": "python",
   "name": "python3"
  },
  "language_info": {
   "codemirror_mode": {
    "name": "ipython",
    "version": 3
   },
   "file_extension": ".py",
   "mimetype": "text/x-python",
   "name": "python",
   "nbconvert_exporter": "python",
   "pygments_lexer": "ipython3",
   "version": "3.7.4"
  }
 },
 "nbformat": 4,
 "nbformat_minor": 2
}
